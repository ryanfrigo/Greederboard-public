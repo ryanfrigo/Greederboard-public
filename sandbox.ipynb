{
 "cells": [
  {
   "cell_type": "code",
   "execution_count": 3,
   "metadata": {},
   "outputs": [],
   "source": [
    "import pandas as pd\n",
    "import wikipedia as wp\n",
    "import re\n",
    "from bs4 import BeautifulSoup\n",
    "import requests"
   ]
  },
  {
   "cell_type": "code",
   "execution_count": 8,
   "metadata": {},
   "outputs": [],
   "source": [
    "# BLOOMBERG BILLIONAIRE INDEX"
   ]
  },
  {
   "cell_type": "code",
   "execution_count": 9,
   "metadata": {},
   "outputs": [],
   "source": [
    "r = requests.get(\n",
    "    'https://www.bloomberg.com/billionaires/',\n",
    "    headers={\n",
    "        'User-Agent': \n",
    "        'Mozilla/5.0 (Linux; Android 6.0; Nexus 5 Build/MRA58N) AppleWebKit/537.36 (KHTML, like Gecko) Chrome/86.0.4240.111 Mobile Safari/537.36',\n",
    "        'accept': 'accept: text/html,application/xhtml+xml,application/xml;q=0.9,image/avif,image/webp,image/apng,*/*;q=0.8,application/signed-exchange;v=b3;q=0.9',\n",
    "        'accept-encoding': 'gzip, deflate, br',\n",
    "        'accept-language': 'en-US,en;q=0.9',\n",
    "        'cache-control': 'max-age=0',\n",
    "        'cookie': '_pxhd=0f753600648bce4e2b004860814b2d98af250ac9765b63cb910c02be1e4fbddb:522b9f41-2121-11eb-bef7-59853c51147a; _sp_krux=false; _sp_v1_uid=1:445:6ca4d5ec-2830-4ba7-8272-9fcdd371728b; _sp_v1_ss=1:H4sIAAAAAAAAAItWqo5RKimOUbLKK83J0YlRSkVil4AlqmtrlXQGQlksAJ3zQ2mdAAAA; _sp_v1_opt=1:; _sp_v1_csv=null; _sp_v1_lt=1:; _user-status=anonymous; _reg-csrf=s%3AjwTbeBfiHjHQsr6RFAvRkJRW.%2Bsw64C4uCzWZ71L3cd7PwcFcyJTwlDb6v5MMhw4kf%2FA; agent_id=440951d4-1f15-4e38-b0dc-6527ef23c137; session_id=7e394ac9-8aa5-4d38-9ce6-64fd4105a42b; session_key=87922da70a9a6574217fb26dd9e2fefc56b6aa7a; _sp_v1_data=2:232240:1604771257:0:9:0:9:0:0:_:-1; consentUUID=cce32c5e-1dcd-4580-befb-e6f4a6e27975; _reg-csrf-token=skfqfHhx-ghVdpHpKphYFm59TfpMwpYv-DkU',\n",
    "    }\n",
    ")"
   ]
  },
  {
   "cell_type": "code",
   "execution_count": 11,
   "metadata": {},
   "outputs": [],
   "source": [
    "soup = BeautifulSoup(r.text)\n",
    "javascript = soup.find(\n",
    "    lambda tag:\n",
    "        tag.name == 'script' and \n",
    "        tag.string and \n",
    "        'window.top500' in tag.string\n",
    ").string"
   ]
  },
  {
   "cell_type": "code",
   "execution_count": 12,
   "metadata": {},
   "outputs": [],
   "source": [
    "json_data = re.search(r'window.top500\\s*=\\s*(.*);\\s*$', javascript).group(1)\n",
    "\n",
    "import json\n",
    "\n",
    "data = json.loads(json_data)\n",
    "\n",
    "df = pd.DataFrame.from_records(data)\n",
    "\n",
    "df = df.fillna('Unknown')\n",
    "\n",
    "df['worth-ytdChange'] = df.worth - df.ytdChange\n",
    "\n",
    "# if ytdchange is positive, plot worth-ytdChange, ytdChange\n",
    "# if ytdchange is negative, plot worth, abs(ytdchange)\n",
    "\n",
    "# arr example\n",
    "#     var data = google.visualization.arrayToDataTable([\n",
    "#         ['City', '2010 Population', '2000 Population'],\n",
    "#         ['New York City, NY', 8175000, 8008000],\n",
    "#         ['Los Angeles, CA', 3792000, 3694000],\n",
    "#         ['Chicago, IL', 2695000, 2896000],\n",
    "#         ['Houston, TX', 2099000, 1953000],\n",
    "#         ['Philadelphia, PA', 1526000, 1517000]\n",
    "#     ]);"
   ]
  },
  {
   "cell_type": "code",
   "execution_count": 20,
   "metadata": {},
   "outputs": [],
   "source": [
    "arr = [['Name', 'Net Worth 1/1/20', 'YTD Change']]\n",
    "\n",
    "person = df.iloc[497]\n",
    "row = []\n",
    "row.append(person.commonName)\n",
    "\n",
    "if person.ytdChange > 0:\n",
    "    row.append(person['worth-ytdChange'])\n",
    "    row.append(person.ytdChange)\n",
    "else:\n",
    "    row.append(person.worth)\n",
    "    row.append(abs(person.ytdChange))"
   ]
  },
  {
   "cell_type": "code",
   "execution_count": 22,
   "metadata": {},
   "outputs": [],
   "source": [
    "arr = [['Name', 'Net Worth 1/1/20', 'YTD Change', \"{ role: 'style' }\"]]\n",
    "\n",
    "for i in range(0, len(df)):\n",
    "    person = df.iloc[i]\n",
    "    row = []\n",
    "    row.append(person.commonName)\n",
    "\n",
    "    if person.ytdChange > 0:\n",
    "        row.append(person['worth-ytdChange'])\n",
    "        row.append(person.ytdChange)\n",
    "        row.append('fill-color: #4fcc29')\n",
    "    else:\n",
    "        row.append(person.worth)\n",
    "        row.append(abs(person.ytdChange))\n",
    "        row.append('fill-color: #dd2323')\n",
    "\n",
    "    arr.append(row)"
   ]
  },
  {
   "cell_type": "code",
   "execution_count": 23,
   "metadata": {},
   "outputs": [],
   "source": [
    "arr.append(['Top 20% of Americans', 630754, 0, 'fill-color: #000000'])\n",
    "arr.append(['Median American', 68828, 0, 'fill-color: #000000'])\n",
    "arr.append(['Median European', 24742, 0, 'fill-color: #000000'])\n",
    "arr.append(['Median Chinese', 20942, 0, 'fill-color: #000000'])\n",
    "arr.append(['Median World', 7087, 0, 'fill-color: #000000'])\n",
    "arr.append(['Median South America', 4929, 0, 'fill-color: #000000'])\n",
    "arr.append(['Median Asia-Pacific', 4188, 0, 'fill-color: #000000'])\n",
    "arr.append(['Median India', 4188, 0, 'fill-color: #000000'])\n",
    "arr.append(['Median Africa', 1219, 0, 'fill-color: #000000'])\n",
    "arr.append(['Bottom 20% of Americans', -6029, 0, 'fill-color: #000000'])\n",
    "arr.append(['US Treasury Cash Reserves', 35700000000, 0, 'fill-color: #000000'])"
   ]
  },
  {
   "cell_type": "code",
   "execution_count": 120,
   "metadata": {},
   "outputs": [],
   "source": [
    "with open('blog/static/js/dash.js', 'r') as f:\n",
    "    dash_f = f.read()\n",
    "\n",
    "dash_f = dash_f.split('/* REPLACE */')\n",
    "\n",
    "dash_f[1] = str(arr).replace('\"', '')\n",
    "\n",
    "dash_f = '/* REPLACE */'.join(dash_f)\n",
    "\n",
    "with open('blog/static/js/dash.js', 'w') as f:\n",
    "    f.write(dash_f)"
   ]
  },
  {
   "cell_type": "code",
   "execution_count": null,
   "metadata": {},
   "outputs": [],
   "source": []
  }
 ],
 "metadata": {
  "kernelspec": {
   "display_name": "Python 3",
   "language": "python",
   "name": "python3"
  },
  "language_info": {
   "codemirror_mode": {
    "name": "ipython",
    "version": 3
   },
   "file_extension": ".py",
   "mimetype": "text/x-python",
   "name": "python",
   "nbconvert_exporter": "python",
   "pygments_lexer": "ipython3",
   "version": "3.7.7"
  }
 },
 "nbformat": 4,
 "nbformat_minor": 4
}
